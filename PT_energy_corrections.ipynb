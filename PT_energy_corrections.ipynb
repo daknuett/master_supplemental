{
 "cells": [
  {
   "cell_type": "markdown",
   "id": "535bc017-ab01-47b7-b8ae-4ad1d90739b1",
   "metadata": {},
   "source": [
    "# Perturbative Corrections to Energy Gaps"
   ]
  },
  {
   "cell_type": "markdown",
   "id": "c8fa9855-b1ce-4383-be3f-946a779e8a5e",
   "metadata": {},
   "source": [
    "Starting from a discretized action which is \n",
    "$$ e^{-S_{E,a}} = <q_f|e^{-a V} e^{-a T}|q_i> = <q_f|e^{-a H_0}|q_i>(1 + \\mathcal{O}(a^2))$$\n",
    "we construct a corrected Hamiltonian $H$ using the Baker-Campbell-Hausdorff formula.\n",
    "Then, using this corrected Hamiltonian\n",
    "$$H = H_0 + a H_1 + a^2 H_2 + \\mathcal{O}(a^3)$$\n",
    "we compute corrections up to $a^2$ on the energy gaps."
   ]
  },
  {
   "cell_type": "markdown",
   "id": "73e3bdbf-12d0-4ab9-8027-e1d3e2358be4",
   "metadata": {},
   "source": [
    "That is we get a linear order in $a$ from 1st order PT in $H_1$, and second order contributions from 2nd order PT in $H_1$ and 1st order PT in $H_2$.\n",
    "We start by defining $H_1$ and $H_2$"
   ]
  },
  {
   "cell_type": "markdown",
   "id": "c1081339-96f0-4ffd-ace2-4ff9fc9dd15d",
   "metadata": {},
   "source": [
    "The Baker-Campbell-Hausdorff formula reads\n",
    "$$ e^{A}e^{B} = e^{A+B + \\frac{1}{2}[A,B] + \\frac{1}{12}([A,[A,B]] - [B,[A,B]]) + \\cdots}$$\n",
    "where $\\cdots \\in \\mathcal{O}(a^3)$. In our case we have\n",
    "$$A = -a V = -a \\frac{m\\omega^2}{2} X^2$$\n",
    "$$B = -a T = -a \\frac{1}{2m} P^2.$$"
   ]
  },
  {
   "cell_type": "markdown",
   "id": "1acf2db0-16e9-4ca0-a299-7552bd36cfbb",
   "metadata": {},
   "source": [
    "We thus obtain \n",
    "$$ A+B = -a(T+V) = -a H_0$$\n",
    "$$ \\frac{1}{2} [A,B] = \\frac{1}{2} (-a)^2  [V, T]$$\n",
    "$$ \\frac{1}{12}[A, [A,B]] = \\frac{1}{12} (-a)^3 [V,[V,T]]$$\n",
    "$$ \\frac{1}{12}[B, [A,B]] = \\frac{1}{12} (-a)^3  [T, [V, T]]$$"
   ]
  },
  {
   "cell_type": "markdown",
   "id": "ab43e044-2c28-4098-a2c9-5d2acf8a026c",
   "metadata": {},
   "source": [
    "We thus define\n",
    "$$ H_0 = T + V$$\n",
    "$$ H_1 = a \\frac{1}{2} (-) [V,T]$$\n",
    "$$ H_2 = a^2\\frac{1}{12} ([V, [V,T]] - [T, [V,T]])$$"
   ]
  },
  {
   "cell_type": "markdown",
   "id": "1390cb58-34de-4fb9-b3f6-33cbba0d5a00",
   "metadata": {},
   "source": [
    "Assuming\n",
    "$$ H = H_0 + \\lambda V$$\n",
    "the first order corrections to $E_n$ in $\\lambda$ is \n",
    "$$ E_n^{(1)} = <n^{(0)}|V|n^{(0)}>$$\n",
    "s.t.\n",
    "$$ E_n = E_n^{(0)} + \\lambda E_n^{(1)} + \\lambda^2 E_n^{(2)} + \\mathcal{O}(\\lambda^3)$$\n",
    "and\n",
    "$$ E_n^{(2)} = \\sum\\limits_{k\\neq n} \\frac{|<k^{(0)}|V|n^{(0)}>|^2}{E_n^{(0)} - E_k^{(0)}}$$"
   ]
  },
  {
   "cell_type": "markdown",
   "id": "8a67344d-b000-4e8b-bfae-eaf56874b081",
   "metadata": {},
   "source": [
    "We thus have two main parts to compute:\n",
    "\n",
    "1. Compute corrections from $H_1$ up to 2nd order in $a$, here $\\lambda = a$ and we use up to 2nd order PT.\n",
    "2. Compute corrections from $H_2$ up to 2nd order in $a$, here $\\lambda = a^2$ and we use up to 1st order PT."
   ]
  },
  {
   "cell_type": "code",
   "execution_count": 1,
   "id": "b5888c55-0e90-455b-a3be-cf32d5511ff9",
   "metadata": {},
   "outputs": [],
   "source": [
    "import sympy\n",
    "sympy.init_printing()\n",
    "\n",
    "import sys\n",
    "sys.path.append(\"../../CAS/\")\n",
    "\n",
    "from ladder.fockstate import FockState\n",
    "\n",
    "from ladder.operator import LadderOperator"
   ]
  },
  {
   "cell_type": "code",
   "execution_count": 2,
   "id": "aea91284-ebb8-4519-a1ed-0196c58c1297",
   "metadata": {},
   "outputs": [],
   "source": [
    "n, k = sympy.symbols(\"n k\", integer=True, positive=True, real=True)"
   ]
  },
  {
   "cell_type": "code",
   "execution_count": 3,
   "id": "a1d80fbd-df52-4f62-b425-6fb1c6f9bf9e",
   "metadata": {},
   "outputs": [],
   "source": [
    "def C(A, B):\n",
    "    return A@B + (-1)* B@A"
   ]
  },
  {
   "cell_type": "code",
   "execution_count": 4,
   "id": "81ee7712-ffd5-4ba9-a3dd-d42f6c2b5c6c",
   "metadata": {},
   "outputs": [],
   "source": [
    "a = LadderOperator(False)\n",
    "ad = LadderOperator(True)"
   ]
  },
  {
   "cell_type": "code",
   "execution_count": 5,
   "id": "5b9aa3a3-e773-4289-a068-1cda3e1a9295",
   "metadata": {},
   "outputs": [],
   "source": [
    "m, omega, eps = sympy.symbols(\"m omega epsilon\", real=True)\n",
    "\n",
    "X = sympy.sqrt(1 / m / omega / 2) * (ad + a)\n",
    "P = sympy.I * sympy.sqrt(m * omega / 2) * (ad + (-1)*a)\n",
    "T = 1/(2*m) * P@P\n",
    "V = m*omega**2 / 2 * X@X"
   ]
  },
  {
   "cell_type": "code",
   "execution_count": 6,
   "id": "c1783883-89c1-48e2-bf78-73746160a48a",
   "metadata": {},
   "outputs": [
    {
     "data": {
      "text/latex": [
       "$\\displaystyle \\frac{1}{2 m}$$\\displaystyle \\frac{\\sqrt{2} i \\sqrt{m \\omega}}{2}$( $a^\\dagger$ +-1 $a$ )$\\displaystyle \\frac{\\sqrt{2} i \\sqrt{m \\omega}}{2}$( $a^\\dagger$ +-1 $a$ )"
      ],
      "text/plain": [
       "<ladder.operator_expression.OpMul at 0x7fc155bda050>"
      ]
     },
     "execution_count": 6,
     "metadata": {},
     "output_type": "execute_result"
    }
   ],
   "source": [
    "T"
   ]
  },
  {
   "cell_type": "code",
   "execution_count": 7,
   "id": "5d0bc2e6-5343-447a-8174-275d92678c62",
   "metadata": {},
   "outputs": [
    {
     "data": {
      "text/latex": [
       "$\\displaystyle \\frac{m \\omega^{2}}{2}$$\\displaystyle \\frac{\\sqrt{2} \\sqrt{\\frac{1}{m \\omega}}}{2}$( $a^\\dagger$ + $a$ )$\\displaystyle \\frac{\\sqrt{2} \\sqrt{\\frac{1}{m \\omega}}}{2}$( $a^\\dagger$ + $a$ )"
      ],
      "text/plain": [
       "<ladder.operator_expression.OpMul at 0x7fc155bda350>"
      ]
     },
     "execution_count": 7,
     "metadata": {},
     "output_type": "execute_result"
    }
   ],
   "source": [
    "V"
   ]
  },
  {
   "cell_type": "code",
   "execution_count": 8,
   "id": "5ad46c08-d06b-41df-982e-c03cf80d4590",
   "metadata": {},
   "outputs": [],
   "source": [
    "H_1 = -eps/2 * C(V,T) \n",
    "H_2 = +(eps**2 / 12)* (C(V, C(V,T)) + (-1)*C(T, C(V,T)))"
   ]
  },
  {
   "cell_type": "code",
   "execution_count": 9,
   "id": "3a10c19c-8c0e-40de-89b5-db11161d31aa",
   "metadata": {},
   "outputs": [
    {
     "data": {
      "text/latex": [
       "$\\displaystyle - \\frac{\\epsilon}{2}$($\\displaystyle \\frac{m \\omega^{2}}{2}$$\\displaystyle \\frac{\\sqrt{2} \\sqrt{\\frac{1}{m \\omega}}}{2}$( $a^\\dagger$ + $a$ )$\\displaystyle \\frac{\\sqrt{2} \\sqrt{\\frac{1}{m \\omega}}}{2}$( $a^\\dagger$ + $a$ )$\\displaystyle \\frac{1}{2 m}$$\\displaystyle \\frac{\\sqrt{2} i \\sqrt{m \\omega}}{2}$( $a^\\dagger$ +-1 $a$ )$\\displaystyle \\frac{\\sqrt{2} i \\sqrt{m \\omega}}{2}$( $a^\\dagger$ +-1 $a$ )+-1$\\displaystyle \\frac{1}{2 m}$$\\displaystyle \\frac{\\sqrt{2} i \\sqrt{m \\omega}}{2}$( $a^\\dagger$ +-1 $a$ )$\\displaystyle \\frac{\\sqrt{2} i \\sqrt{m \\omega}}{2}$( $a^\\dagger$ +-1 $a$ )$\\displaystyle \\frac{m \\omega^{2}}{2}$$\\displaystyle \\frac{\\sqrt{2} \\sqrt{\\frac{1}{m \\omega}}}{2}$( $a^\\dagger$ + $a$ )$\\displaystyle \\frac{\\sqrt{2} \\sqrt{\\frac{1}{m \\omega}}}{2}$( $a^\\dagger$ + $a$ ))"
      ],
      "text/plain": [
       "<ladder.operator_expression.ScalarMul at 0x7fc155a0a080>"
      ]
     },
     "execution_count": 9,
     "metadata": {},
     "output_type": "execute_result"
    }
   ],
   "source": [
    "H_1"
   ]
  },
  {
   "cell_type": "markdown",
   "id": "994a85bd-af15-44cd-b808-88a403b09039",
   "metadata": {},
   "source": [
    "## Corrections from $H_1$\n"
   ]
  },
  {
   "cell_type": "markdown",
   "id": "b2012fc4-23a5-4092-a52b-c0e5a0141bbc",
   "metadata": {},
   "source": [
    "Linear corrections"
   ]
  },
  {
   "cell_type": "code",
   "execution_count": 10,
   "id": "d926a620-7e4f-46bc-9fa4-320034f9b17a",
   "metadata": {},
   "outputs": [
    {
     "data": {
      "image/png": "[encoded data removed]",
      "text/latex": [
       "$\\displaystyle 0$"
      ],
      "text/plain": [
       "0"
      ]
     },
     "execution_count": 10,
     "metadata": {},
     "output_type": "execute_result"
    }
   ],
   "source": [
    "FockState(1,n) @ (H_1 * FockState(1,n))"
   ]
  },
  {
   "cell_type": "markdown",
   "id": "d7d4a840-fead-4387-bd72-aca33e31b378",
   "metadata": {},
   "source": [
    "No linear corrections in $a$."
   ]
  },
  {
   "cell_type": "code",
   "execution_count": 11,
   "id": "cf1c581d-4c55-4ac1-a756-455aea277bff",
   "metadata": {},
   "outputs": [],
   "source": [
    "abs2 = lambda x: x*sympy.conjugate(x)"
   ]
  },
  {
   "cell_type": "code",
   "execution_count": 12,
   "id": "bac75495-ff1f-438f-8586-35862f81aba5",
   "metadata": {},
   "outputs": [
    {
     "name": "stdout",
     "output_type": "stream",
     "text": [
      "|< n - 7 |V| n >|**2 =  0\n",
      "|< n - 6 |V| n >|**2 =  0\n",
      "|< n - 5 |V| n >|**2 =  0\n",
      "|< n - 4 |V| n >|**2 =  0\n",
      "|< n - 3 |V| n >|**2 =  0\n",
      "|< n - 2 |V| n >|**2 =  epsilon**2*n*omega**4*(n - 1)/16\n",
      "|< n - 1 |V| n >|**2 =  0\n",
      "|< n + 1 |V| n >|**2 =  0\n",
      "|< n + 2 |V| n >|**2 =  epsilon**2*omega**4*(n + 1)*(n + 2)/16\n",
      "|< n + 3 |V| n >|**2 =  0\n",
      "|< n + 4 |V| n >|**2 =  0\n",
      "|< n + 5 |V| n >|**2 =  0\n",
      "|< n + 6 |V| n >|**2 =  0\n",
      "|< n + 7 |V| n >|**2 =  0\n"
     ]
    }
   ],
   "source": [
    "for k in range(0, 15):\n",
    "    kp = k - 7\n",
    "    if(kp != 0):\n",
    "        print(\"|<\", n+kp, \"|V|\", n, \">|**2 = \", sympy.simplify(abs2(FockState(1,n+kp) @ (H_1 * FockState(1,n)))))"
   ]
  },
  {
   "cell_type": "code",
   "execution_count": 13,
   "id": "9b1493e1-1238-4e22-93ce-9df3afef42a0",
   "metadata": {},
   "outputs": [],
   "source": [
    "H_0 = T+V"
   ]
  },
  {
   "cell_type": "code",
   "execution_count": 14,
   "id": "5cc2427c-4a8e-45be-93cb-5dadefadfb2a",
   "metadata": {},
   "outputs": [
    {
     "data": {
      "image/png": "[encoded data removed]",
      "text/latex": [
       "$\\displaystyle \\omega \\left(n + \\frac{1}{2}\\right)$"
      ],
      "text/plain": [
       "ω⋅(n + 1/2)"
      ]
     },
     "execution_count": 14,
     "metadata": {},
     "output_type": "execute_result"
    }
   ],
   "source": [
    "En = sympy.simplify(FockState(1,n) @ (H_0 * FockState(1, n)))\n",
    "En"
   ]
  },
  {
   "cell_type": "code",
   "execution_count": 29,
   "id": "90913250-23e4-459c-be48-39ed5ada0014",
   "metadata": {},
   "outputs": [
    {
     "data": {
      "image/png": "[encoded data removed]",
      "text/latex": [
       "$\\displaystyle \\left[ \\frac{\\epsilon^{2} \\omega^{3}}{16}, \\  \\frac{3 \\epsilon^{2} \\omega^{3}}{16}, \\  \\frac{5 \\epsilon^{2} \\omega^{3}}{16}, \\  \\frac{7 \\epsilon^{2} \\omega^{3}}{16}, \\  \\frac{9 \\epsilon^{2} \\omega^{3}}{16}, \\  \\frac{11 \\epsilon^{2} \\omega^{3}}{16}, \\  \\frac{13 \\epsilon^{2} \\omega^{3}}{16}, \\  \\frac{15 \\epsilon^{2} \\omega^{3}}{16}, \\  \\frac{17 \\epsilon^{2} \\omega^{3}}{16}, \\  \\frac{19 \\epsilon^{2} \\omega^{3}}{16}, \\  \\frac{21 \\epsilon^{2} \\omega^{3}}{16}, \\  \\frac{23 \\epsilon^{2} \\omega^{3}}{16}, \\  \\frac{25 \\epsilon^{2} \\omega^{3}}{16}, \\  \\frac{27 \\epsilon^{2} \\omega^{3}}{16}, \\  \\frac{29 \\epsilon^{2} \\omega^{3}}{16}\\right]$"
      ],
      "text/plain": [
       "⎡ 2  3     2  3     2  3     2  3     2  3      2  3      2  3      2  3      \n",
       "⎢ε ⋅ω   3⋅ε ⋅ω   5⋅ε ⋅ω   7⋅ε ⋅ω   9⋅ε ⋅ω   11⋅ε ⋅ω   13⋅ε ⋅ω   15⋅ε ⋅ω   17⋅ε\n",
       "⎢─────, ───────, ───────, ───────, ───────, ────────, ────────, ────────, ────\n",
       "⎣  16      16       16       16       16       16        16        16        1\n",
       "\n",
       "2  3      2  3      2  3      2  3      2  3      2  3      2  3⎤\n",
       " ⋅ω   19⋅ε ⋅ω   21⋅ε ⋅ω   23⋅ε ⋅ω   25⋅ε ⋅ω   27⋅ε ⋅ω   29⋅ε ⋅ω ⎥\n",
       "────, ────────, ────────, ────────, ────────, ────────, ────────⎥\n",
       "6        16        16        16        16        16        16   ⎦"
      ]
     },
     "execution_count": 29,
     "metadata": {},
     "output_type": "execute_result"
    }
   ],
   "source": [
    "En = lambda n: sympy.simplify(FockState(1,n) @ (H_0 * FockState(1, n)))\n",
    "\n",
    "energy_corrections_H1 = []\n",
    "for n in range(15):\n",
    "    correction = 0\n",
    "    for k in range(0, 15):\n",
    "        kp = k - 7\n",
    "        if(kp != 0 and n + kp >= 0):\n",
    "            correction += -sympy.simplify(abs2(FockState(1, n+kp) @ (H_1 * FockState(1, n)))) / (En(n) - En(n + kp))\n",
    "    energy_corrections_H1.append(sympy.simplify(correction))\n",
    "energy_corrections_H1"
   ]
  },
  {
   "cell_type": "markdown",
   "id": "36f1c775-f896-4107-876c-80e09c11eefa",
   "metadata": {},
   "source": [
    "Note the $-$ sign because we have $H_0 - \\lambda H_1$."
   ]
  },
  {
   "cell_type": "markdown",
   "id": "6ee8bdd8-076a-4e46-9e23-45aefaa6720d",
   "metadata": {},
   "source": [
    "## Corrections from $H_2$"
   ]
  },
  {
   "cell_type": "code",
   "execution_count": 30,
   "id": "b949752e-c432-4dcc-a231-c2c6c3a8f177",
   "metadata": {},
   "outputs": [],
   "source": [
    "n, k = sympy.symbols(\"n k\", integer=True, positive=True, real=True)"
   ]
  },
  {
   "cell_type": "code",
   "execution_count": 31,
   "id": "df5f86d3-3384-4a9a-8367-086028716739",
   "metadata": {},
   "outputs": [
    {
     "data": {
      "image/png": "[encoded data removed]",
      "text/latex": [
       "$\\displaystyle \\frac{\\epsilon^{2} n^{2} \\omega^{3} \\left(n - 1\\right)}{96} - \\frac{\\epsilon^{2} n \\omega^{3} \\left(n - 2\\right) \\left(n - 1\\right)}{96} - \\frac{\\epsilon^{2} n \\omega^{3} \\left(n - 1\\right)^{2}}{96} + \\frac{\\epsilon^{2} n \\omega^{3} \\left(n - 1\\right) \\left(n + 1\\right)}{96} + \\frac{\\epsilon^{2} n \\omega^{3} \\left(n + 1\\right) \\left(n + 2\\right)}{96} + \\frac{\\epsilon^{2} \\omega^{3} \\left(n + 1\\right)^{2} \\left(n + 2\\right)}{96} - \\frac{\\epsilon^{2} \\omega^{3} \\left(n + 1\\right) \\left(n + 2\\right)^{2}}{96} - \\frac{\\epsilon^{2} \\omega^{3} \\left(n + 1\\right) \\left(n + 2\\right) \\left(n + 3\\right)}{96}$"
      ],
      "text/plain": [
       " 2  2  3            2    3                    2    3        2    2    3       \n",
       "ε ⋅n ⋅ω ⋅(n - 1)   ε ⋅n⋅ω ⋅(n - 2)⋅(n - 1)   ε ⋅n⋅ω ⋅(n - 1)    ε ⋅n⋅ω ⋅(n - 1\n",
       "──────────────── - ─────────────────────── - ──────────────── + ──────────────\n",
       "       96                     96                    96                     96 \n",
       "\n",
       "             2    3                    2  3        2            2  3          \n",
       ")⋅(n + 1)   ε ⋅n⋅ω ⋅(n + 1)⋅(n + 2)   ε ⋅ω ⋅(n + 1) ⋅(n + 2)   ε ⋅ω ⋅(n + 1)⋅(\n",
       "───────── + ─────────────────────── + ────────────────────── - ───────────────\n",
       "                       96                       96                       96   \n",
       "\n",
       "      2    2  3                        \n",
       "n + 2)    ε ⋅ω ⋅(n + 1)⋅(n + 2)⋅(n + 3)\n",
       "─────── - ─────────────────────────────\n",
       "                        96             "
      ]
     },
     "execution_count": 31,
     "metadata": {},
     "output_type": "execute_result"
    }
   ],
   "source": [
    "FockState(1,n) @ (H_2 * FockState(1,n))"
   ]
  },
  {
   "cell_type": "code",
   "execution_count": 32,
   "id": "213d18fe-9437-46fd-b93a-c0abc31f8eed",
   "metadata": {},
   "outputs": [
    {
     "data": {
      "image/png": "[encoded data removed]",
      "text/latex": [
       "$\\displaystyle \\left[ - \\frac{\\epsilon^{2} \\omega^{3}}{12}, \\  - \\frac{\\epsilon^{2} \\omega^{3}}{4}, \\  - \\frac{5 \\epsilon^{2} \\omega^{3}}{12}, \\  - \\frac{7 \\epsilon^{2} \\omega^{3}}{12}, \\  - \\frac{3 \\epsilon^{2} \\omega^{3}}{4}, \\  - \\frac{11 \\epsilon^{2} \\omega^{3}}{12}, \\  - \\frac{13 \\epsilon^{2} \\omega^{3}}{12}, \\  - \\frac{5 \\epsilon^{2} \\omega^{3}}{4}, \\  - \\frac{17 \\epsilon^{2} \\omega^{3}}{12}, \\  - \\frac{19 \\epsilon^{2} \\omega^{3}}{12}, \\  - \\frac{7 \\epsilon^{2} \\omega^{3}}{4}, \\  - \\frac{23 \\epsilon^{2} \\omega^{3}}{12}, \\  - \\frac{25 \\epsilon^{2} \\omega^{3}}{12}, \\  - \\frac{9 \\epsilon^{2} \\omega^{3}}{4}, \\  - \\frac{29 \\epsilon^{2} \\omega^{3}}{12}\\right]$"
      ],
      "text/plain": [
       "⎡  2  3     2  3       2  3       2  3       2  3        2  3        2  3     \n",
       "⎢-ε ⋅ω    -ε ⋅ω    -5⋅ε ⋅ω    -7⋅ε ⋅ω    -3⋅ε ⋅ω    -11⋅ε ⋅ω    -13⋅ε ⋅ω    -5\n",
       "⎢───────, ───────, ─────────, ─────────, ─────────, ──────────, ──────────, ──\n",
       "⎣   12       4         12         12         4          12          12        \n",
       "\n",
       "  2  3        2  3        2  3       2  3        2  3        2  3       2  3  \n",
       "⋅ε ⋅ω    -17⋅ε ⋅ω    -19⋅ε ⋅ω    -7⋅ε ⋅ω    -23⋅ε ⋅ω    -25⋅ε ⋅ω    -9⋅ε ⋅ω   \n",
       "───────, ──────────, ──────────, ─────────, ──────────, ──────────, ─────────,\n",
       "  4          12          12          4          12          12          4     \n",
       "\n",
       "      2  3 ⎤\n",
       " -29⋅ε ⋅ω  ⎥\n",
       " ──────────⎥\n",
       "     12    ⎦"
      ]
     },
     "execution_count": 32,
     "metadata": {},
     "output_type": "execute_result"
    }
   ],
   "source": [
    "energy_corections_H2 = [FockState(1,n) @ (H_2 * FockState(1,n)) for n in range(15)]\n",
    "energy_corections_H2"
   ]
  },
  {
   "cell_type": "markdown",
   "id": "e47eda08-cd0a-4a75-89b6-fa1f259360e4",
   "metadata": {},
   "source": [
    "## Total corrections"
   ]
  },
  {
   "cell_type": "code",
   "execution_count": 33,
   "id": "fbd419d2-f293-42c5-a376-d6545321464f",
   "metadata": {},
   "outputs": [
    {
     "data": {
      "image/png": "[encoded data removed]",
      "text/latex": [
       "$\\displaystyle \\left[ - \\frac{\\epsilon^{2} \\omega^{3}}{48}, \\  - \\frac{\\epsilon^{2} \\omega^{3}}{16}, \\  - \\frac{5 \\epsilon^{2} \\omega^{3}}{48}, \\  - \\frac{7 \\epsilon^{2} \\omega^{3}}{48}, \\  - \\frac{3 \\epsilon^{2} \\omega^{3}}{16}, \\  - \\frac{11 \\epsilon^{2} \\omega^{3}}{48}, \\  - \\frac{13 \\epsilon^{2} \\omega^{3}}{48}, \\  - \\frac{5 \\epsilon^{2} \\omega^{3}}{16}, \\  - \\frac{17 \\epsilon^{2} \\omega^{3}}{48}, \\  - \\frac{19 \\epsilon^{2} \\omega^{3}}{48}, \\  - \\frac{7 \\epsilon^{2} \\omega^{3}}{16}, \\  - \\frac{23 \\epsilon^{2} \\omega^{3}}{48}, \\  - \\frac{25 \\epsilon^{2} \\omega^{3}}{48}, \\  - \\frac{9 \\epsilon^{2} \\omega^{3}}{16}, \\  - \\frac{29 \\epsilon^{2} \\omega^{3}}{48}\\right]$"
      ],
      "text/plain": [
       "⎡  2  3     2  3       2  3       2  3       2  3        2  3        2  3     \n",
       "⎢-ε ⋅ω    -ε ⋅ω    -5⋅ε ⋅ω    -7⋅ε ⋅ω    -3⋅ε ⋅ω    -11⋅ε ⋅ω    -13⋅ε ⋅ω    -5\n",
       "⎢───────, ───────, ─────────, ─────────, ─────────, ──────────, ──────────, ──\n",
       "⎣   48       16        48         48         16         48          48        \n",
       "\n",
       "  2  3        2  3        2  3       2  3        2  3        2  3       2  3  \n",
       "⋅ε ⋅ω    -17⋅ε ⋅ω    -19⋅ε ⋅ω    -7⋅ε ⋅ω    -23⋅ε ⋅ω    -25⋅ε ⋅ω    -9⋅ε ⋅ω   \n",
       "───────, ──────────, ──────────, ─────────, ──────────, ──────────, ─────────,\n",
       "  16         48          48          16         48          48          16    \n",
       "\n",
       "      2  3 ⎤\n",
       " -29⋅ε ⋅ω  ⎥\n",
       " ──────────⎥\n",
       "     48    ⎦"
      ]
     },
     "execution_count": 33,
     "metadata": {},
     "output_type": "execute_result"
    }
   ],
   "source": [
    "energy_corrections = [a+b for a,b in zip(energy_corrections_H1, energy_corections_H2)]\n",
    "energy_corrections"
   ]
  },
  {
   "cell_type": "code",
   "execution_count": 34,
   "id": "8d2ae2d0-1787-4f53-a7e8-78d479780765",
   "metadata": {},
   "outputs": [
    {
     "data": {
      "image/png": "[encoded data removed]",
      "text/latex": [
       "$\\displaystyle 0.0208333333333333$"
      ],
      "text/plain": [
       "0.020833333333333332"
      ]
     },
     "execution_count": 34,
     "metadata": {},
     "output_type": "execute_result"
    }
   ],
   "source": [
    "1/48"
   ]
  },
  {
   "cell_type": "code",
   "execution_count": 35,
   "id": "2cbc31b1-f4cb-4ddc-be96-b538fd086ae8",
   "metadata": {},
   "outputs": [
    {
     "data": {
      "image/png": "[encoded data removed]",
      "text/latex": [
       "$\\displaystyle - \\frac{\\epsilon^{2} \\omega^{3}}{24}$"
      ],
      "text/plain": [
       "  2  3 \n",
       "-ε ⋅ω  \n",
       "───────\n",
       "   24  "
      ]
     },
     "execution_count": 35,
     "metadata": {},
     "output_type": "execute_result"
    }
   ],
   "source": [
    "energy_corrections[1] - energy_corrections[0]"
   ]
  },
  {
   "cell_type": "code",
   "execution_count": 36,
   "id": "a97b808e-91b4-460c-8e6c-b2d12bbc1bf4",
   "metadata": {},
   "outputs": [
    {
     "data": {
      "image/png": "[encoded data removed]",
      "text/latex": [
       "$\\displaystyle -0.291666666666667$"
      ],
      "text/plain": [
       "-0.2916666666666667"
      ]
     },
     "execution_count": 36,
     "metadata": {},
     "output_type": "execute_result"
    }
   ],
   "source": [
    "-7/24"
   ]
  },
  {
   "cell_type": "markdown",
   "id": "2a4d607b-175e-4108-ab2a-bee9bfbb3bf9",
   "metadata": {},
   "source": [
    "## Corrected Energies"
   ]
  },
  {
   "cell_type": "code",
   "execution_count": 37,
   "id": "a99913b7-5d2c-450c-964a-405c779012dc",
   "metadata": {},
   "outputs": [
    {
     "data": {
      "image/png": "[encoded data removed]",
      "text/latex": [
       "$\\displaystyle \\left[ - \\frac{\\epsilon^{2} \\omega^{3}}{48} + \\frac{\\omega}{2}, \\  - \\frac{\\epsilon^{2} \\omega^{3}}{16} + \\frac{3 \\omega}{2}, \\  - \\frac{5 \\epsilon^{2} \\omega^{3}}{48} + \\frac{5 \\omega}{2}, \\  - \\frac{7 \\epsilon^{2} \\omega^{3}}{48} + \\frac{7 \\omega}{2}, \\  - \\frac{3 \\epsilon^{2} \\omega^{3}}{16} + \\frac{9 \\omega}{2}, \\  - \\frac{11 \\epsilon^{2} \\omega^{3}}{48} + \\frac{11 \\omega}{2}, \\  - \\frac{13 \\epsilon^{2} \\omega^{3}}{48} + \\frac{13 \\omega}{2}, \\  - \\frac{5 \\epsilon^{2} \\omega^{3}}{16} + \\frac{15 \\omega}{2}, \\  - \\frac{17 \\epsilon^{2} \\omega^{3}}{48} + \\frac{17 \\omega}{2}, \\  - \\frac{19 \\epsilon^{2} \\omega^{3}}{48} + \\frac{19 \\omega}{2}, \\  - \\frac{7 \\epsilon^{2} \\omega^{3}}{16} + \\frac{21 \\omega}{2}, \\  - \\frac{23 \\epsilon^{2} \\omega^{3}}{48} + \\frac{23 \\omega}{2}, \\  - \\frac{25 \\epsilon^{2} \\omega^{3}}{48} + \\frac{25 \\omega}{2}, \\  - \\frac{9 \\epsilon^{2} \\omega^{3}}{16} + \\frac{27 \\omega}{2}, \\  - \\frac{29 \\epsilon^{2} \\omega^{3}}{48} + \\frac{29 \\omega}{2}\\right]$"
      ],
      "text/plain": [
       "⎡   2  3         2  3             2  3             2  3             2  3      \n",
       "⎢  ε ⋅ω    ω    ε ⋅ω    3⋅ω    5⋅ε ⋅ω    5⋅ω    7⋅ε ⋅ω    7⋅ω    3⋅ε ⋅ω    9⋅ω\n",
       "⎢- ───── + ─, - ───── + ───, - ─────── + ───, - ─────── + ───, - ─────── + ───\n",
       "⎣    48    2      16     2        48      2        48      2        16      2 \n",
       "\n",
       "        2  3               2  3              2  3               2  3          \n",
       "    11⋅ε ⋅ω    11⋅ω    13⋅ε ⋅ω    13⋅ω    5⋅ε ⋅ω    15⋅ω    17⋅ε ⋅ω    17⋅ω   \n",
       ", - ──────── + ────, - ──────── + ────, - ─────── + ────, - ──────── + ────, -\n",
       "       48       2         48       2         16      2         48       2     \n",
       "\n",
       "     2  3              2  3               2  3               2  3             \n",
       " 19⋅ε ⋅ω    19⋅ω    7⋅ε ⋅ω    21⋅ω    23⋅ε ⋅ω    23⋅ω    25⋅ε ⋅ω    25⋅ω    9⋅\n",
       " ──────── + ────, - ─────── + ────, - ──────── + ────, - ──────── + ────, - ──\n",
       "    48       2         16      2         48       2         48       2        \n",
       "\n",
       " 2  3               2  3       ⎤\n",
       "ε ⋅ω    27⋅ω    29⋅ε ⋅ω    29⋅ω⎥\n",
       "───── + ────, - ──────── + ────⎥\n",
       " 16      2         48       2  ⎦"
      ]
     },
     "execution_count": 37,
     "metadata": {},
     "output_type": "execute_result"
    }
   ],
   "source": [
    "energies = [En(n) + corr for n,corr in enumerate(energy_corrections)]\n",
    "energies"
   ]
  },
  {
   "cell_type": "code",
   "execution_count": 38,
   "id": "438c1cf3-3eac-4bd8-a981-fd53aa003126",
   "metadata": {},
   "outputs": [
    {
     "data": {
      "image/png": "[encoded data removed]",
      "text/latex": [
       "$\\displaystyle - \\frac{\\epsilon^{2} \\omega^{3}}{24} + \\omega$"
      ],
      "text/plain": [
       "   2  3    \n",
       "  ε ⋅ω     \n",
       "- ───── + ω\n",
       "    24     "
      ]
     },
     "execution_count": 38,
     "metadata": {},
     "output_type": "execute_result"
    }
   ],
   "source": [
    "energies[1] - energies[0]"
   ]
  },
  {
   "cell_type": "code",
   "execution_count": 39,
   "id": "9c8280dd-4c9d-4935-a837-02c72e15a28f",
   "metadata": {},
   "outputs": [
    {
     "data": {
      "image/png": "[encoded data removed]",
      "text/latex": [
       "$\\displaystyle - \\frac{\\epsilon^{2} \\omega^{3}}{12} + 2 \\omega$"
      ],
      "text/plain": [
       "   2  3      \n",
       "  ε ⋅ω       \n",
       "- ───── + 2⋅ω\n",
       "    12       "
      ]
     },
     "execution_count": 39,
     "metadata": {},
     "output_type": "execute_result"
    }
   ],
   "source": [
    "energies[3] - energies[1]"
   ]
  },
  {
   "cell_type": "code",
   "execution_count": 40,
   "id": "48114da7-baf4-4e44-9dd8-00b6e6c1c50e",
   "metadata": {},
   "outputs": [
    {
     "data": {
      "image/png": "[encoded data removed]",
      "text/latex": [
       "$\\displaystyle - \\frac{\\epsilon^{2} \\omega^{3}}{8} + 3 \\omega$"
      ],
      "text/plain": [
       "   2  3      \n",
       "  ε ⋅ω       \n",
       "- ───── + 3⋅ω\n",
       "    8        "
      ]
     },
     "execution_count": 40,
     "metadata": {},
     "output_type": "execute_result"
    }
   ],
   "source": [
    "energies[3] - energies[0]"
   ]
  },
  {
   "cell_type": "code",
   "execution_count": 41,
   "id": "dbbcfc1f-462f-4c7d-8a70-4a049e378a81",
   "metadata": {},
   "outputs": [
    {
     "data": {
      "image/png": "[encoded data removed]",
      "text/latex": [
       "$\\displaystyle - \\frac{5 \\epsilon^{2} \\omega^{3}}{24} + 5 \\omega$"
      ],
      "text/plain": [
       "     2  3      \n",
       "  5⋅ε ⋅ω       \n",
       "- ─────── + 5⋅ω\n",
       "     24        "
      ]
     },
     "execution_count": 41,
     "metadata": {},
     "output_type": "execute_result"
    }
   ],
   "source": [
    "energies[5] - energies[0]"
   ]
  },
  {
   "cell_type": "code",
   "execution_count": 42,
   "id": "7ceeab07-ee11-4b44-8f6c-ca8f0674ce73",
   "metadata": {},
   "outputs": [
    {
     "data": {
      "image/png": "[encoded data removed]",
      "text/latex": [
       "$\\displaystyle 0.208333333333333$"
      ],
      "text/plain": [
       "0.20833333333333334"
      ]
     },
     "execution_count": 42,
     "metadata": {},
     "output_type": "execute_result"
    }
   ],
   "source": [
    "5 / 24"
   ]
  },
  {
   "cell_type": "code",
   "execution_count": null,
   "id": "db3bd056-ceac-4c74-abbc-678b853ce7eb",
   "metadata": {},
   "outputs": [],
   "source": []
  },
  {
   "cell_type": "code",
   "execution_count": null,
   "id": "25dc9fc5-9cff-43ae-b590-c33c113ddde5",
   "metadata": {},
   "outputs": [],
   "source": []
  }
 ],
 "metadata": {
  "kernelspec": {
   "display_name": "Python 3 (ipykernel)",
   "language": "python",
   "name": "python3"
  },
  "language_info": {
   "codemirror_mode": {
    "name": "ipython",
    "version": 3
   },
   "file_extension": ".py",
   "mimetype": "text/x-python",
   "name": "python",
   "nbconvert_exporter": "python",
   "pygments_lexer": "ipython3",
   "version": "3.11.0"
  }
 },
 "nbformat": 4,
 "nbformat_minor": 5
}
